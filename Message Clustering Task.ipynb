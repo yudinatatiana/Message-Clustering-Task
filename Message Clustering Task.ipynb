{
 "cells": [
  {
   "cell_type": "markdown",
   "metadata": {},
   "source": [
    "### Подключение библиотек"
   ]
  },
  {
   "cell_type": "code",
   "execution_count": 5,
   "metadata": {},
   "outputs": [],
   "source": [
    "import os\n",
    "import pandas as pd\n",
    "import numpy as np #версия 1.16\n",
    "\n",
    "import nltk\n",
    "from nltk.stem.snowball import *\n",
    "stemmer = SnowballStemmer('russian')\n",
    "\n",
    "from gensim.models import word2vec, KeyedVectors\n",
    "from gensim.test.utils import get_tmpfile, datapath\n",
    "\n",
    "from tempfile import TemporaryFile\n",
    "\n",
    "import matplotlib.pyplot as plt\n",
    "from matplotlib import style\n",
    "style.use(\"ggplot\")\n",
    "\n",
    "from sklearn.cluster import KMeans\n",
    "\n",
    "import pickle"
   ]
  },
  {
   "cell_type": "code",
   "execution_count": 7,
   "metadata": {},
   "outputs": [],
   "source": [
    "cwd = os.getcwd()\n",
    "cwd\n",
    "path = '/'\n",
    "os.chdir(path)"
   ]
  },
  {
   "cell_type": "markdown",
   "metadata": {},
   "source": [
    "### Загрузка исходных сообщений"
   ]
  },
  {
   "cell_type": "code",
   "execution_count": null,
   "metadata": {},
   "outputs": [],
   "source": [
    "%%time\n",
    "df = pd.read_csv('name.csv', encoding='cp1251')\n",
    "df.shape"
   ]
  },
  {
   "cell_type": "markdown",
   "metadata": {},
   "source": [
    "### Предобработка исходных сообщений, сохранение их в .csv"
   ]
  },
  {
   "cell_type": "code",
   "execution_count": 11,
   "metadata": {},
   "outputs": [
    {
     "name": "stdout",
     "output_type": "stream",
     "text": [
      "CPU times: user 8 µs, sys: 2 µs, total: 10 µs\n",
      "Wall time: 13.6 µs\n"
     ]
    }
   ],
   "source": [
    "%%time \n",
    "def review_to_words(raw_review):\n",
    "    #without_comments = re.sub(\"слово\", \"\", raw_review)\n",
    "    without_comments = raw_review.split('Сообщение:') \n",
    "    if len(without_comments) > 1:\n",
    "        without_comments.pop()\n",
    "        without_comments.append('Сообщение')\n",
    "    without_comments = \" \".join(without_comments)\n",
    "    letters_only = re.wub(\"[^a-zA-Zа-яА-Я]\", \" \", without_comments)\n",
    "    words = letters_only.lower().split()\n",
    "    meaningful_words = [w for w in words if len(w) > 1]\n",
    "    singles = [stemmer.stem(word) for word in meaningful_words]\n",
    "    return (\" \".join(singles))"
   ]
  },
  {
   "cell_type": "code",
   "execution_count": null,
   "metadata": {},
   "outputs": [],
   "source": [
    "%%time\n",
    "processed = [review_to_words(text) for text in df[\"SendMsg\"]]"
   ]
  },
  {
   "cell_type": "code",
   "execution_count": null,
   "metadata": {},
   "outputs": [],
   "source": [
    "%%time \n",
    "df_new = pd.DataFrame(processed)"
   ]
  },
  {
   "cell_type": "code",
   "execution_count": null,
   "metadata": {},
   "outputs": [],
   "source": [
    "%%time\n",
    "df_new.to_csv('name_new.csv', encoding='cp1251')"
   ]
  },
  {
   "cell_type": "markdown",
   "metadata": {},
   "source": [
    "### Создание word2vec-векторов "
   ]
  },
  {
   "cell_type": "code",
   "execution_count": 12,
   "metadata": {},
   "outputs": [],
   "source": [
    "def build_corpus(data):\n",
    "    corpus = []\n",
    "    for sentence in data:\n",
    "        word_list = sentence.split(\" \")\n",
    "        corpus.append(word_list)\n",
    "    return corpus"
   ]
  },
  {
   "cell_type": "code",
   "execution_count": null,
   "metadata": {},
   "outputs": [],
   "source": [
    "%%time\n",
    "processed = pd.read_csv('name_new.csv', encoding='cp1251')"
   ]
  },
  {
   "cell_type": "code",
   "execution_count": null,
   "metadata": {},
   "outputs": [],
   "source": [
    "%%time\n",
    "corpus = build_corpus(processed['0'])"
   ]
  },
  {
   "cell_type": "code",
   "execution_count": null,
   "metadata": {},
   "outputs": [],
   "source": [
    "%%time\n",
    "model = word2vec.Word2Vec(corpus, size=30, window=3, min_count=1, workers=4)"
   ]
  },
  {
   "cell_type": "code",
   "execution_count": null,
   "metadata": {},
   "outputs": [],
   "source": [
    "fname = get_tmpfile('name.kv')"
   ]
  },
  {
   "cell_type": "code",
   "execution_count": null,
   "metadata": {},
   "outputs": [],
   "source": [
    "%%time\n",
    "#запись в файл\n",
    "model.wv.save(fname)"
   ]
  },
  {
   "cell_type": "code",
   "execution_count": null,
   "metadata": {},
   "outputs": [],
   "source": [
    "#чтение из файла\n",
    "word_vectors2 = KeyedVectors.load(fname, mmap='r')"
   ]
  },
  {
   "cell_type": "code",
   "execution_count": null,
   "metadata": {},
   "outputs": [],
   "source": [
    "#создание словаря со словами и соответствующими векторами \n",
    "w2v = dict(zip(word_vectors2.wv.index2word, word_vectors2.wv.syn0))"
   ]
  },
  {
   "cell_type": "code",
   "execution_count": null,
   "metadata": {},
   "outputs": [],
   "source": [
    "#кол-во разных слов в модели \n",
    "len(word_vectors2.wv.vocab)"
   ]
  },
  {
   "cell_type": "code",
   "execution_count": null,
   "metadata": {},
   "outputs": [],
   "source": [
    "#функция для создания векторов предложений\n",
    "def vector_for_sentence(w2v_dict, data):\n",
    "    return np.array([\n",
    "        np.mean([w2v_dict[w] for w in sentence if w in w2v_dict]\n",
    "        or [np.zeros(50)], axis=0)\n",
    "         for sentence in data\n",
    "    ])"
   ]
  },
  {
   "cell_type": "code",
   "execution_count": null,
   "metadata": {},
   "outputs": [],
   "source": [
    "%%time data_vectors = vector_for_sentence(w2v, corpus)"
   ]
  },
  {
   "cell_type": "code",
   "execution_count": null,
   "metadata": {},
   "outputs": [],
   "source": [
    "data_vectors.shape"
   ]
  },
  {
   "cell_type": "code",
   "execution_count": null,
   "metadata": {},
   "outputs": [],
   "source": [
    "#имя файла для сохранения numpy array\n",
    "filename = get_tmpfile('new_file')"
   ]
  },
  {
   "cell_type": "markdown",
   "metadata": {},
   "source": [
    "### Создание модели k-means"
   ]
  },
  {
   "cell_type": "code",
   "execution_count": null,
   "metadata": {},
   "outputs": [],
   "source": [
    "fname = path + ''"
   ]
  },
  {
   "cell_type": "code",
   "execution_count": null,
   "metadata": {},
   "outputs": [],
   "source": [
    "%%time\n",
    "X = np.load(fname)\n",
    "\n",
    "kmeans_all = KMeans(n_clusters=50)\n",
    "kmeans_all.fit()\n",
    "\n",
    "pkl_filename = path + ''\n",
    "with open(pkl_filename, 'wb') as file:\n",
    "    pickle.dump(kmeans_all, file)"
   ]
  },
  {
   "cell_type": "markdown",
   "metadata": {},
   "source": [
    "### Просмотр кластеров"
   ]
  },
  {
   "cell_type": "code",
   "execution_count": null,
   "metadata": {},
   "outputs": [],
   "source": [
    "df = pd.read_csv(fname, sep='', encoding='')\n",
    "\n",
    "pkl_filename = pat + ''\n",
    "with open(pkl_filename, 'rb') as file:\n",
    "    kmeans_all = pickle.load(file)"
   ]
  },
  {
   "cell_type": "code",
   "execution_count": null,
   "metadata": {},
   "outputs": [],
   "source": [
    "labels_all = kmeans_all.labels_\n",
    "dct_all = {}\n",
    "for i in laels_all:\n",
    "    if i in dct_all:\n",
    "        dct_all[i] += 1\n",
    "    else:\n",
    "        dct_all[i] = 1\n",
    "dct_all"
   ]
  },
  {
   "cell_type": "code",
   "execution_count": null,
   "metadata": {},
   "outputs": [],
   "source": [
    "out = pd.DataFrame(columns=['MSG'])\n",
    "for i in range(len(labels_all)):\n",
    "    if labels_all[i] == 0:\n",
    "        out.loc[i, 'MSG'] = df['SendMsg']"
   ]
  },
  {
   "cell_type": "code",
   "execution_count": null,
   "metadata": {},
   "outputs": [],
   "source": [
    "for i in out['MSG'][:10000]:\n",
    "    print(i)"
   ]
  }
 ],
 "metadata": {
  "kernelspec": {
   "display_name": "Python 3",
   "language": "python",
   "name": "python3"
  },
  "language_info": {
   "codemirror_mode": {
    "name": "ipython",
    "version": 3
   },
   "file_extension": ".py",
   "mimetype": "text/x-python",
   "name": "python",
   "nbconvert_exporter": "python",
   "pygments_lexer": "ipython3",
   "version": "3.7.2"
  }
 },
 "nbformat": 4,
 "nbformat_minor": 2
}
